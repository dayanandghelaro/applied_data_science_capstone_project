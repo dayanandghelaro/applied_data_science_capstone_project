{
 "cells": [
  {
   "cell_type": "markdown",
   "metadata": {},
   "source": [
    "# Capstone Project - The Battle of Neighborhoods (Week 1)"
   ]
  },
  {
   "cell_type": "markdown",
   "metadata": {},
   "source": [
    "## Introduction and Business Problem:"
   ]
  },
  {
   "cell_type": "markdown",
   "metadata": {},
   "source": [
    "### Description of the Problem"
   ]
  },
  {
   "cell_type": "markdown",
   "metadata": {},
   "source": [
    "Nowadays, Covid-19 has impacted million of lives around the whole globe with the word <i><b>Stay at Home</b></i> so there's shortage of milk in Karachi, the capital city of Sindh, Pakistan. \n",
    "Although there are many Dairies in Karachi but our aim is to open one at suitable location so that we can optimize home delivery of milk."
   ]
  },
  {
   "cell_type": "markdown",
   "metadata": {},
   "source": [
    "### Background"
   ]
  },
  {
   "cell_type": "markdown",
   "metadata": {},
   "source": [
    "My Client is the owner of the large <b>Dairy Milk</b> company providing its services at <b>Hyderabad</b>. She would like to expand her business in Karachi and she has <i>decided to open her company's branch in<b> Karachi</b></i>. She asked me to analyze the data and find the suitable location for her company."
   ]
  },
  {
   "cell_type": "markdown",
   "metadata": {},
   "source": [
    "### Target Audience"
   ]
  },
  {
   "cell_type": "markdown",
   "metadata": {},
   "source": [
    "Karachi is the most diversified city of Pakistan and people across the all Pakistan have their business here. So, our target audience is all Pakistani currently living in Karachi."
   ]
  },
  {
   "cell_type": "markdown",
   "metadata": {},
   "source": [
    "## Description of the Data:"
   ]
  },
  {
   "cell_type": "markdown",
   "metadata": {},
   "source": [
    "We have access to List of Union Councils of Karachi <a hre=\"https://en.wikipedia.org/wiki/List_of_Union_Councils_of_Karachi\"> here </a>\n",
    "Then we will use BeautifulSoup to extract the data and preprocess for further evaluation and visualizations."
   ]
  }
 ],
 "metadata": {
  "kernelspec": {
   "display_name": "Python 3",
   "language": "python",
   "name": "python3"
  },
  "language_info": {
   "codemirror_mode": {
    "name": "ipython",
    "version": 3
   },
   "file_extension": ".py",
   "mimetype": "text/x-python",
   "name": "python",
   "nbconvert_exporter": "python",
   "pygments_lexer": "ipython3",
   "version": "3.8.2"
  }
 },
 "nbformat": 4,
 "nbformat_minor": 4
}
