{
 "cells": [
  {
   "cell_type": "markdown",
   "metadata": {},
   "source": [
    "# Segmenting and Clustering Neighborhoods in Toronto"
   ]
  },
  {
   "cell_type": "markdown",
   "metadata": {},
   "source": [
    "### 1. Importing Necessary Packages/Libraries"
   ]
  },
  {
   "cell_type": "code",
   "execution_count": 1,
   "metadata": {},
   "outputs": [
    {
     "name": "stdout",
     "output_type": "stream",
     "text": [
      "Libraries imported.\n"
     ]
    }
   ],
   "source": [
    "import numpy as np # library to handle data in a vectorized manner\n",
    "\n",
    "import pandas as pd # library for data analsysis\n",
    "pd.set_option('display.max_columns', None)\n",
    "pd.set_option('display.max_rows', None)\n",
    "\n",
    "import json # library to handle JSON files\n",
    "\n",
    "#!conda install -c conda-forge geopy --yes # uncomment this line if you haven't completed the Foursquare API lab\n",
    "from geopy.geocoders import Nominatim # convert an address into latitude and longitude values\n",
    "import geocoder\n",
    "import requests # library to handle requests\n",
    "from pandas.io.json import json_normalize # tranform JSON file into a pandas dataframe\n",
    "\n",
    "# Matplotlib and associated plotting modules\n",
    "import matplotlib.cm as cm\n",
    "import matplotlib.colors as colors\n",
    "\n",
    "# import k-means from clustering stage\n",
    "from sklearn.cluster import KMeans\n",
    "\n",
    "# packages to scrape the data from webpage\n",
    "from bs4 import BeautifulSoup\n",
    "import lxml \n",
    "import html5lib\n",
    "\n",
    "\n",
    "#!conda install -c conda-forge folium=0.5.0 --yes # uncomment this line if you haven't completed the Foursquare API lab\n",
    "import folium # map rendering library\n",
    "\n",
    "print('Libraries imported.')"
   ]
  },
  {
   "cell_type": "markdown",
   "metadata": {},
   "source": [
    "### 2. Scrapping Data from Wikipedia"
   ]
  },
  {
   "cell_type": "markdown",
   "metadata": {},
   "source": [
    "#### 2.1 Getting Table Headings"
   ]
  },
  {
   "cell_type": "code",
   "execution_count": 2,
   "metadata": {},
   "outputs": [
    {
     "name": "stdout",
     "output_type": "stream",
     "text": [
      "['Postal code', 'Borough', 'Neighborhood']\n"
     ]
    }
   ],
   "source": [
    "source = requests.get('https://en.wikipedia.org/wiki/List_of_postal_codes_of_Canada:_M').text\n",
    "soup = BeautifulSoup(source,'lxml')\n",
    "\n",
    "column_names=[]\n",
    "data=[]\n",
    "\n",
    "table_headings = soup.find('table', class_=\"wikitable\").tbody.tr\n",
    "\n",
    "#column_names.append(table_data.tbody.tr.th.text)\n",
    "for e in table_headings.find_all('th'):\n",
    "    column_names.append(e.text.replace('\\n',''))\n",
    "    data.append([])\n",
    "\n",
    "print(column_names)\n",
    "#print(data)"
   ]
  },
  {
   "cell_type": "markdown",
   "metadata": {},
   "source": [
    "#### 2.2 Getting Data Records of (Table)"
   ]
  },
  {
   "cell_type": "code",
   "execution_count": 3,
   "metadata": {},
   "outputs": [
    {
     "name": "stdout",
     "output_type": "stream",
     "text": [
      "[['M1A', 'M2A', 'M3A', 'M4A', 'M5A', 'M6A', 'M7A', 'M8A', 'M9A', 'M1B', 'M2B', 'M3B', 'M4B', 'M5B', 'M6B', 'M7B', 'M8B', 'M9B', 'M1C', 'M2C', 'M3C', 'M4C', 'M5C', 'M6C', 'M7C', 'M8C', 'M9C', 'M1E', 'M2E', 'M3E', 'M4E', 'M5E', 'M6E', 'M7E', 'M8E', 'M9E', 'M1G', 'M2G', 'M3G', 'M4G', 'M5G', 'M6G', 'M7G', 'M8G', 'M9G', 'M1H', 'M2H', 'M3H', 'M4H', 'M5H', 'M6H', 'M7H', 'M8H', 'M9H', 'M1J', 'M2J', 'M3J', 'M4J', 'M5J', 'M6J', 'M7J', 'M8J', 'M9J', 'M1K', 'M2K', 'M3K', 'M4K', 'M5K', 'M6K', 'M7K', 'M8K', 'M9K', 'M1L', 'M2L', 'M3L', 'M4L', 'M5L', 'M6L', 'M7L', 'M8L', 'M9L', 'M1M', 'M2M', 'M3M', 'M4M', 'M5M', 'M6M', 'M7M', 'M8M', 'M9M', 'M1N', 'M2N', 'M3N', 'M4N', 'M5N', 'M6N', 'M7N', 'M8N', 'M9N', 'M1P', 'M2P', 'M3P', 'M4P', 'M5P', 'M6P', 'M7P', 'M8P', 'M9P', 'M1R', 'M2R', 'M3R', 'M4R', 'M5R', 'M6R', 'M7R', 'M8R', 'M9R', 'M1S', 'M2S', 'M3S', 'M4S', 'M5S', 'M6S', 'M7S', 'M8S', 'M9S', 'M1T', 'M2T', 'M3T', 'M4T', 'M5T', 'M6T', 'M7T', 'M8T', 'M9T', 'M1V', 'M2V', 'M3V', 'M4V', 'M5V', 'M6V', 'M7V', 'M8V', 'M9V', 'M1W', 'M2W', 'M3W', 'M4W', 'M5W', 'M6W', 'M7W', 'M8W', 'M9W', 'M1X', 'M2X', 'M3X', 'M4X', 'M5X', 'M6X', 'M7X', 'M8X', 'M9X', 'M1Y', 'M2Y', 'M3Y', 'M4Y', 'M5Y', 'M6Y', 'M7Y', 'M8Y', 'M9Y', 'M1Z', 'M2Z', 'M3Z', 'M4Z', 'M5Z', 'M6Z', 'M7Z', 'M8Z', 'M9Z'], ['Not assigned', 'Not assigned', 'North York', 'North York', 'Downtown Toronto', 'North York', 'Downtown Toronto', 'Not assigned', 'Etobicoke', 'Scarborough', 'Not assigned', 'North York', 'East York', 'Downtown Toronto', 'North York', 'Not assigned', 'Not assigned', 'Etobicoke', 'Scarborough', 'Not assigned', 'North York', 'East York', 'Downtown Toronto', 'York', 'Not assigned', 'Not assigned', 'Etobicoke', 'Scarborough', 'Not assigned', 'Not assigned', 'East Toronto', 'Downtown Toronto', 'York', 'Not assigned', 'Not assigned', 'Not assigned', 'Scarborough', 'Not assigned', 'Not assigned', 'East York', 'Downtown Toronto', 'Downtown Toronto', 'Not assigned', 'Not assigned', 'Not assigned', 'Scarborough', 'North York', 'North York', 'East York', 'Downtown Toronto', 'West Toronto', 'Not assigned', 'Not assigned', 'Not assigned', 'Scarborough', 'North York', 'North York', 'East York', 'Downtown Toronto', 'West Toronto', 'Not assigned', 'Not assigned', 'Not assigned', 'Scarborough', 'North York', 'North York', 'East Toronto', 'Downtown Toronto', 'West Toronto', 'Not assigned', 'Not assigned', 'Not assigned', 'Scarborough', 'North York', 'North York', 'East Toronto', 'Downtown Toronto', 'North York', 'Not assigned', 'Not assigned', 'North York', 'Scarborough', 'North York', 'North York', 'East Toronto', 'North York', 'York', 'Not assigned', 'Not assigned', 'North York', 'Scarborough', 'North York', 'North York', 'Central Toronto', 'Central Toronto', 'York', 'Not assigned', 'Not assigned', 'York', 'Scarborough', 'North York', 'Not assigned', 'Central Toronto', 'Central Toronto', 'West Toronto', 'Not assigned', 'Not assigned', 'Etobicoke', 'Scarborough', 'North York', 'Not assigned', 'Central Toronto', 'Central Toronto', 'West Toronto', 'Mississauga', 'Not assigned', 'Etobicoke', 'Scarborough', 'Not assigned', 'Not assigned', 'Central Toronto', 'Downtown Toronto', 'West Toronto', 'Not assigned', 'Not assigned', 'Not assigned', 'Scarborough', 'Not assigned', 'Not assigned', 'Central Toronto', 'Downtown Toronto', 'Not assigned', 'Not assigned', 'Not assigned', 'Not assigned', 'Scarborough', 'Not assigned', 'Not assigned', 'Central Toronto', 'Downtown Toronto', 'Not assigned', 'Not assigned', 'Etobicoke', 'Etobicoke', 'Scarborough', 'Not assigned', 'Not assigned', 'Downtown Toronto', 'Downtown Toronto', 'Not assigned', 'Not assigned', 'Etobicoke', 'Etobicoke', 'Scarborough', 'Not assigned', 'Not assigned', 'Downtown Toronto', 'Downtown Toronto', 'Not assigned', 'Not assigned', 'Etobicoke', 'Not assigned', 'Not assigned', 'Not assigned', 'Not assigned', 'Downtown Toronto', 'Not assigned', 'Not assigned', 'East Toronto', 'Etobicoke', 'Not assigned', 'Not assigned', 'Not assigned', 'Not assigned', 'Not assigned', 'Not assigned', 'Not assigned', 'Not assigned', 'Etobicoke', 'Not assigned'], ['', '', 'Parkwoods', 'Victoria Village', 'Regent Park / Harbourfront', 'Lawrence Manor / Lawrence Heights', \"Queen's Park / Ontario Provincial Government\", '', 'Islington Avenue', 'Malvern / Rouge', '', 'Don Mills', 'Parkview Hill / Woodbine Gardens', 'Garden District, Ryerson', 'Glencairn', '', '', 'West Deane Park / Princess Gardens / Martin Grove / Islington / Cloverdale', 'Rouge Hill / Port Union / Highland Creek', '', 'Don Mills', 'Woodbine Heights', 'St. James Town', 'Humewood-Cedarvale', '', '', 'Eringate / Bloordale Gardens / Old Burnhamthorpe / Markland Wood', 'Guildwood / Morningside / West Hill', '', '', 'The Beaches', 'Berczy Park', 'Caledonia-Fairbanks', '', '', '', 'Woburn', '', '', 'Leaside', 'Central Bay Street', 'Christie', '', '', '', 'Cedarbrae', 'Hillcrest Village', 'Bathurst Manor / Wilson Heights / Downsview North', 'Thorncliffe Park', 'Richmond / Adelaide / King', 'Dufferin / Dovercourt Village', '', '', '', 'Scarborough Village', 'Fairview / Henry Farm / Oriole', 'Northwood Park / York University', 'East Toronto', 'Harbourfront East / Union Station / Toronto Islands', 'Little Portugal / Trinity', '', '', '', 'Kennedy Park / Ionview / East Birchmount Park', 'Bayview Village', 'Downsview', 'The Danforth West / Riverdale', 'Toronto Dominion Centre / Design Exchange', 'Brockton / Parkdale Village / Exhibition Place', '', '', '', 'Golden Mile / Clairlea / Oakridge', 'York Mills / Silver Hills', 'Downsview', 'India Bazaar / The Beaches West', 'Commerce Court / Victoria Hotel', 'North Park / Maple Leaf Park / Upwood Park', '', '', 'Humber Summit', 'Cliffside / Cliffcrest / Scarborough Village West', 'Willowdale / Newtonbrook', 'Downsview', 'Studio District', 'Bedford Park / Lawrence Manor East', 'Del Ray / Mount Dennis / Keelsdale and Silverthorn', '', '', 'Humberlea / Emery', 'Birch Cliff / Cliffside West', 'Willowdale', 'Downsview', 'Lawrence Park', 'Roselawn', 'Runnymede / The Junction North', '', '', 'Weston', 'Dorset Park / Wexford Heights / Scarborough Town Centre', 'York Mills West', '', 'Davisville North', 'Forest Hill North & West', 'High Park / The Junction South', '', '', 'Westmount', 'Wexford / Maryvale', 'Willowdale', '', 'North Toronto West', 'The Annex / North Midtown / Yorkville', 'Parkdale / Roncesvalles', 'Canada Post Gateway Processing Centre', '', 'Kingsview Village / St. Phillips / Martin Grove Gardens / Richview Gardens', 'Agincourt', '', '', 'Davisville', 'University of Toronto / Harbord', 'Runnymede / Swansea', '', '', '', \"Clarks Corners / Tam O'Shanter / Sullivan\", '', '', 'Moore Park / Summerhill East', 'Kensington Market / Chinatown / Grange Park', '', '', '', '', \"Milliken / Agincourt North / Steeles East / L'Amoreaux East\", '', '', 'Summerhill West / Rathnelly / South Hill / Forest Hill SE / Deer Park', 'CN Tower / King and Spadina / Railway Lands / Harbourfront West / Bathurst Quay / South Niagara / Island airport', '', '', 'New Toronto / Mimico South / Humber Bay Shores', 'South Steeles / Silverstone / Humbergate / Jamestown / Mount Olive / Beaumond Heights / Thistletown / Albion Gardens', \"Steeles West / L'Amoreaux West\", '', '', 'Rosedale', 'Stn A PO Boxes', '', '', 'Alderwood / Long Branch', 'Northwest', 'Upper Rouge', '', '', 'St. James Town / Cabbagetown', 'First Canadian Place / Underground city', '', '', 'The Kingsway / Montgomery Road  / Old Mill North', '', '', '', '', 'Church and Wellesley', '', '', 'Business reply mail Processing CentrE', \"Old Mill South / King's Mill Park / Sunnylea / Humber Bay / Mimico NE / The Queensway East / Royal York South East / Kingsway Park South East\", '', '', '', '', '', '', '', '', 'Mimico NW / The Queensway West / South of Bloor / Kingsway Park South West / Royal York South West', '']]\n"
     ]
    }
   ],
   "source": [
    "table_data = soup.find('table', class_='wikitable').tbody\n",
    "\n",
    "for record in table_data.find_all('tr'):\n",
    "    i=0\n",
    "    for data_point in record.find_all('td'):\n",
    "        data[i].append(data_point.text.replace('\\n',''))\n",
    "        i+=1\n",
    "        \n",
    "print(data)\n"
   ]
  },
  {
   "cell_type": "markdown",
   "metadata": {},
   "source": [
    "#### 2.3 Creating DataFrame from the Scrapped Data"
   ]
  },
  {
   "cell_type": "code",
   "execution_count": 4,
   "metadata": {},
   "outputs": [
    {
     "data": {
      "text/html": [
       "<div>\n",
       "<style scoped>\n",
       "    .dataframe tbody tr th:only-of-type {\n",
       "        vertical-align: middle;\n",
       "    }\n",
       "\n",
       "    .dataframe tbody tr th {\n",
       "        vertical-align: top;\n",
       "    }\n",
       "\n",
       "    .dataframe thead th {\n",
       "        text-align: right;\n",
       "    }\n",
       "</style>\n",
       "<table border=\"1\" class=\"dataframe\">\n",
       "  <thead>\n",
       "    <tr style=\"text-align: right;\">\n",
       "      <th></th>\n",
       "      <th>Postal code</th>\n",
       "      <th>Borough</th>\n",
       "      <th>Neighborhood</th>\n",
       "    </tr>\n",
       "  </thead>\n",
       "  <tbody>\n",
       "    <tr>\n",
       "      <th>0</th>\n",
       "      <td>M1A</td>\n",
       "      <td>Not assigned</td>\n",
       "      <td></td>\n",
       "    </tr>\n",
       "    <tr>\n",
       "      <th>1</th>\n",
       "      <td>M2A</td>\n",
       "      <td>Not assigned</td>\n",
       "      <td></td>\n",
       "    </tr>\n",
       "    <tr>\n",
       "      <th>2</th>\n",
       "      <td>M3A</td>\n",
       "      <td>North York</td>\n",
       "      <td>Parkwoods</td>\n",
       "    </tr>\n",
       "    <tr>\n",
       "      <th>3</th>\n",
       "      <td>M4A</td>\n",
       "      <td>North York</td>\n",
       "      <td>Victoria Village</td>\n",
       "    </tr>\n",
       "    <tr>\n",
       "      <th>4</th>\n",
       "      <td>M5A</td>\n",
       "      <td>Downtown Toronto</td>\n",
       "      <td>Regent Park / Harbourfront</td>\n",
       "    </tr>\n",
       "  </tbody>\n",
       "</table>\n",
       "</div>"
      ],
      "text/plain": [
       "  Postal code           Borough                Neighborhood\n",
       "0         M1A      Not assigned                            \n",
       "1         M2A      Not assigned                            \n",
       "2         M3A        North York                   Parkwoods\n",
       "3         M4A        North York            Victoria Village\n",
       "4         M5A  Downtown Toronto  Regent Park / Harbourfront"
      ]
     },
     "execution_count": 4,
     "metadata": {},
     "output_type": "execute_result"
    }
   ],
   "source": [
    "data_dict = {}\n",
    "for indx in range(len(column_names)):\n",
    "    data_dict[column_names[indx]]=data[indx]\n",
    "\n",
    "    \n",
    "data_frame = pd.DataFrame(data_dict)\n",
    "data_frame.head()"
   ]
  },
  {
   "cell_type": "markdown",
   "metadata": {},
   "source": [
    "### 3 Pre-processing Data\n",
    "#### 3.1 Removing Borough that is 'Not assigned'"
   ]
  },
  {
   "cell_type": "code",
   "execution_count": 5,
   "metadata": {},
   "outputs": [],
   "source": [
    "data_frame = data_frame[data_frame['Borough']!=\"Not assigned\"]"
   ]
  },
  {
   "cell_type": "code",
   "execution_count": 6,
   "metadata": {},
   "outputs": [
    {
     "data": {
      "text/html": [
       "<div>\n",
       "<style scoped>\n",
       "    .dataframe tbody tr th:only-of-type {\n",
       "        vertical-align: middle;\n",
       "    }\n",
       "\n",
       "    .dataframe tbody tr th {\n",
       "        vertical-align: top;\n",
       "    }\n",
       "\n",
       "    .dataframe thead th {\n",
       "        text-align: right;\n",
       "    }\n",
       "</style>\n",
       "<table border=\"1\" class=\"dataframe\">\n",
       "  <thead>\n",
       "    <tr style=\"text-align: right;\">\n",
       "      <th></th>\n",
       "      <th>Postal code</th>\n",
       "      <th>Borough</th>\n",
       "      <th>Neighborhood</th>\n",
       "    </tr>\n",
       "  </thead>\n",
       "  <tbody>\n",
       "    <tr>\n",
       "      <th>2</th>\n",
       "      <td>M3A</td>\n",
       "      <td>North York</td>\n",
       "      <td>Parkwoods</td>\n",
       "    </tr>\n",
       "    <tr>\n",
       "      <th>3</th>\n",
       "      <td>M4A</td>\n",
       "      <td>North York</td>\n",
       "      <td>Victoria Village</td>\n",
       "    </tr>\n",
       "    <tr>\n",
       "      <th>4</th>\n",
       "      <td>M5A</td>\n",
       "      <td>Downtown Toronto</td>\n",
       "      <td>Regent Park / Harbourfront</td>\n",
       "    </tr>\n",
       "    <tr>\n",
       "      <th>5</th>\n",
       "      <td>M6A</td>\n",
       "      <td>North York</td>\n",
       "      <td>Lawrence Manor / Lawrence Heights</td>\n",
       "    </tr>\n",
       "    <tr>\n",
       "      <th>6</th>\n",
       "      <td>M7A</td>\n",
       "      <td>Downtown Toronto</td>\n",
       "      <td>Queen's Park / Ontario Provincial Government</td>\n",
       "    </tr>\n",
       "    <tr>\n",
       "      <th>8</th>\n",
       "      <td>M9A</td>\n",
       "      <td>Etobicoke</td>\n",
       "      <td>Islington Avenue</td>\n",
       "    </tr>\n",
       "    <tr>\n",
       "      <th>9</th>\n",
       "      <td>M1B</td>\n",
       "      <td>Scarborough</td>\n",
       "      <td>Malvern / Rouge</td>\n",
       "    </tr>\n",
       "    <tr>\n",
       "      <th>11</th>\n",
       "      <td>M3B</td>\n",
       "      <td>North York</td>\n",
       "      <td>Don Mills</td>\n",
       "    </tr>\n",
       "    <tr>\n",
       "      <th>12</th>\n",
       "      <td>M4B</td>\n",
       "      <td>East York</td>\n",
       "      <td>Parkview Hill / Woodbine Gardens</td>\n",
       "    </tr>\n",
       "    <tr>\n",
       "      <th>13</th>\n",
       "      <td>M5B</td>\n",
       "      <td>Downtown Toronto</td>\n",
       "      <td>Garden District, Ryerson</td>\n",
       "    </tr>\n",
       "  </tbody>\n",
       "</table>\n",
       "</div>"
      ],
      "text/plain": [
       "   Postal code           Borough                                  Neighborhood\n",
       "2          M3A        North York                                     Parkwoods\n",
       "3          M4A        North York                              Victoria Village\n",
       "4          M5A  Downtown Toronto                    Regent Park / Harbourfront\n",
       "5          M6A        North York             Lawrence Manor / Lawrence Heights\n",
       "6          M7A  Downtown Toronto  Queen's Park / Ontario Provincial Government\n",
       "8          M9A         Etobicoke                              Islington Avenue\n",
       "9          M1B       Scarborough                               Malvern / Rouge\n",
       "11         M3B        North York                                     Don Mills\n",
       "12         M4B         East York              Parkview Hill / Woodbine Gardens\n",
       "13         M5B  Downtown Toronto                      Garden District, Ryerson"
      ]
     },
     "execution_count": 6,
     "metadata": {},
     "output_type": "execute_result"
    }
   ],
   "source": [
    "data_frame.head(10)"
   ]
  },
  {
   "cell_type": "markdown",
   "metadata": {},
   "source": [
    "#### 3.2 Replacing \"/\" with \",\" in Neighborhood column"
   ]
  },
  {
   "cell_type": "code",
   "execution_count": 7,
   "metadata": {},
   "outputs": [
    {
     "data": {
      "text/html": [
       "<div>\n",
       "<style scoped>\n",
       "    .dataframe tbody tr th:only-of-type {\n",
       "        vertical-align: middle;\n",
       "    }\n",
       "\n",
       "    .dataframe tbody tr th {\n",
       "        vertical-align: top;\n",
       "    }\n",
       "\n",
       "    .dataframe thead th {\n",
       "        text-align: right;\n",
       "    }\n",
       "</style>\n",
       "<table border=\"1\" class=\"dataframe\">\n",
       "  <thead>\n",
       "    <tr style=\"text-align: right;\">\n",
       "      <th></th>\n",
       "      <th>Postal code</th>\n",
       "      <th>Borough</th>\n",
       "      <th>Neighborhood</th>\n",
       "    </tr>\n",
       "  </thead>\n",
       "  <tbody>\n",
       "    <tr>\n",
       "      <th>2</th>\n",
       "      <td>M3A</td>\n",
       "      <td>North York</td>\n",
       "      <td>Parkwoods</td>\n",
       "    </tr>\n",
       "    <tr>\n",
       "      <th>3</th>\n",
       "      <td>M4A</td>\n",
       "      <td>North York</td>\n",
       "      <td>Victoria Village</td>\n",
       "    </tr>\n",
       "    <tr>\n",
       "      <th>4</th>\n",
       "      <td>M5A</td>\n",
       "      <td>Downtown Toronto</td>\n",
       "      <td>Regent Park , Harbourfront</td>\n",
       "    </tr>\n",
       "    <tr>\n",
       "      <th>5</th>\n",
       "      <td>M6A</td>\n",
       "      <td>North York</td>\n",
       "      <td>Lawrence Manor , Lawrence Heights</td>\n",
       "    </tr>\n",
       "    <tr>\n",
       "      <th>6</th>\n",
       "      <td>M7A</td>\n",
       "      <td>Downtown Toronto</td>\n",
       "      <td>Queen's Park , Ontario Provincial Government</td>\n",
       "    </tr>\n",
       "    <tr>\n",
       "      <th>8</th>\n",
       "      <td>M9A</td>\n",
       "      <td>Etobicoke</td>\n",
       "      <td>Islington Avenue</td>\n",
       "    </tr>\n",
       "    <tr>\n",
       "      <th>9</th>\n",
       "      <td>M1B</td>\n",
       "      <td>Scarborough</td>\n",
       "      <td>Malvern , Rouge</td>\n",
       "    </tr>\n",
       "    <tr>\n",
       "      <th>11</th>\n",
       "      <td>M3B</td>\n",
       "      <td>North York</td>\n",
       "      <td>Don Mills</td>\n",
       "    </tr>\n",
       "    <tr>\n",
       "      <th>12</th>\n",
       "      <td>M4B</td>\n",
       "      <td>East York</td>\n",
       "      <td>Parkview Hill , Woodbine Gardens</td>\n",
       "    </tr>\n",
       "    <tr>\n",
       "      <th>13</th>\n",
       "      <td>M5B</td>\n",
       "      <td>Downtown Toronto</td>\n",
       "      <td>Garden District, Ryerson</td>\n",
       "    </tr>\n",
       "  </tbody>\n",
       "</table>\n",
       "</div>"
      ],
      "text/plain": [
       "   Postal code           Borough                                  Neighborhood\n",
       "2          M3A        North York                                     Parkwoods\n",
       "3          M4A        North York                              Victoria Village\n",
       "4          M5A  Downtown Toronto                    Regent Park , Harbourfront\n",
       "5          M6A        North York             Lawrence Manor , Lawrence Heights\n",
       "6          M7A  Downtown Toronto  Queen's Park , Ontario Provincial Government\n",
       "8          M9A         Etobicoke                              Islington Avenue\n",
       "9          M1B       Scarborough                               Malvern , Rouge\n",
       "11         M3B        North York                                     Don Mills\n",
       "12         M4B         East York              Parkview Hill , Woodbine Gardens\n",
       "13         M5B  Downtown Toronto                      Garden District, Ryerson"
      ]
     },
     "execution_count": 7,
     "metadata": {},
     "output_type": "execute_result"
    }
   ],
   "source": [
    "data_frame['Neighborhood'] = data_frame.Neighborhood.apply(lambda x: x.replace('/',','))\n",
    "data_frame.head(10)"
   ]
  },
  {
   "cell_type": "code",
   "execution_count": 8,
   "metadata": {},
   "outputs": [
    {
     "name": "stdout",
     "output_type": "stream",
     "text": [
      "(103, 3)\n"
     ]
    }
   ],
   "source": [
    "print(data_frame.shape)"
   ]
  },
  {
   "cell_type": "markdown",
   "metadata": {},
   "source": [
    "### 4 Loading Geospatial Coordinates Data"
   ]
  },
  {
   "cell_type": "code",
   "execution_count": 9,
   "metadata": {},
   "outputs": [
    {
     "data": {
      "text/html": [
       "<div>\n",
       "<style scoped>\n",
       "    .dataframe tbody tr th:only-of-type {\n",
       "        vertical-align: middle;\n",
       "    }\n",
       "\n",
       "    .dataframe tbody tr th {\n",
       "        vertical-align: top;\n",
       "    }\n",
       "\n",
       "    .dataframe thead th {\n",
       "        text-align: right;\n",
       "    }\n",
       "</style>\n",
       "<table border=\"1\" class=\"dataframe\">\n",
       "  <thead>\n",
       "    <tr style=\"text-align: right;\">\n",
       "      <th></th>\n",
       "      <th>Postal code</th>\n",
       "      <th>Latitude</th>\n",
       "      <th>Longitude</th>\n",
       "    </tr>\n",
       "  </thead>\n",
       "  <tbody>\n",
       "    <tr>\n",
       "      <th>0</th>\n",
       "      <td>M1B</td>\n",
       "      <td>43.806686</td>\n",
       "      <td>-79.194353</td>\n",
       "    </tr>\n",
       "    <tr>\n",
       "      <th>1</th>\n",
       "      <td>M1C</td>\n",
       "      <td>43.784535</td>\n",
       "      <td>-79.160497</td>\n",
       "    </tr>\n",
       "    <tr>\n",
       "      <th>2</th>\n",
       "      <td>M1E</td>\n",
       "      <td>43.763573</td>\n",
       "      <td>-79.188711</td>\n",
       "    </tr>\n",
       "    <tr>\n",
       "      <th>3</th>\n",
       "      <td>M1G</td>\n",
       "      <td>43.770992</td>\n",
       "      <td>-79.216917</td>\n",
       "    </tr>\n",
       "    <tr>\n",
       "      <th>4</th>\n",
       "      <td>M1H</td>\n",
       "      <td>43.773136</td>\n",
       "      <td>-79.239476</td>\n",
       "    </tr>\n",
       "  </tbody>\n",
       "</table>\n",
       "</div>"
      ],
      "text/plain": [
       "  Postal code   Latitude  Longitude\n",
       "0         M1B  43.806686 -79.194353\n",
       "1         M1C  43.784535 -79.160497\n",
       "2         M1E  43.763573 -79.188711\n",
       "3         M1G  43.770992 -79.216917\n",
       "4         M1H  43.773136 -79.239476"
      ]
     },
     "execution_count": 9,
     "metadata": {},
     "output_type": "execute_result"
    }
   ],
   "source": [
    "geospatial_data = pd.read_csv('Geospatial_Coordinates.csv')\n",
    "geospatial_data.columns = ['Postal code','Latitude','Longitude']\n",
    "geospatial_data.head()"
   ]
  },
  {
   "cell_type": "code",
   "execution_count": 10,
   "metadata": {},
   "outputs": [
    {
     "data": {
      "text/html": [
       "<div>\n",
       "<style scoped>\n",
       "    .dataframe tbody tr th:only-of-type {\n",
       "        vertical-align: middle;\n",
       "    }\n",
       "\n",
       "    .dataframe tbody tr th {\n",
       "        vertical-align: top;\n",
       "    }\n",
       "\n",
       "    .dataframe thead th {\n",
       "        text-align: right;\n",
       "    }\n",
       "</style>\n",
       "<table border=\"1\" class=\"dataframe\">\n",
       "  <thead>\n",
       "    <tr style=\"text-align: right;\">\n",
       "      <th></th>\n",
       "      <th>Postal code</th>\n",
       "      <th>Borough</th>\n",
       "      <th>Neighborhood</th>\n",
       "      <th>Latitude</th>\n",
       "      <th>Longitude</th>\n",
       "    </tr>\n",
       "  </thead>\n",
       "  <tbody>\n",
       "    <tr>\n",
       "      <th>0</th>\n",
       "      <td>M3A</td>\n",
       "      <td>North York</td>\n",
       "      <td>Parkwoods</td>\n",
       "      <td>43.753259</td>\n",
       "      <td>-79.329656</td>\n",
       "    </tr>\n",
       "    <tr>\n",
       "      <th>1</th>\n",
       "      <td>M4A</td>\n",
       "      <td>North York</td>\n",
       "      <td>Victoria Village</td>\n",
       "      <td>43.725882</td>\n",
       "      <td>-79.315572</td>\n",
       "    </tr>\n",
       "    <tr>\n",
       "      <th>2</th>\n",
       "      <td>M5A</td>\n",
       "      <td>Downtown Toronto</td>\n",
       "      <td>Regent Park , Harbourfront</td>\n",
       "      <td>43.654260</td>\n",
       "      <td>-79.360636</td>\n",
       "    </tr>\n",
       "    <tr>\n",
       "      <th>3</th>\n",
       "      <td>M6A</td>\n",
       "      <td>North York</td>\n",
       "      <td>Lawrence Manor , Lawrence Heights</td>\n",
       "      <td>43.718518</td>\n",
       "      <td>-79.464763</td>\n",
       "    </tr>\n",
       "    <tr>\n",
       "      <th>4</th>\n",
       "      <td>M7A</td>\n",
       "      <td>Downtown Toronto</td>\n",
       "      <td>Queen's Park , Ontario Provincial Government</td>\n",
       "      <td>43.662301</td>\n",
       "      <td>-79.389494</td>\n",
       "    </tr>\n",
       "  </tbody>\n",
       "</table>\n",
       "</div>"
      ],
      "text/plain": [
       "  Postal code           Borough                                  Neighborhood  \\\n",
       "0         M3A        North York                                     Parkwoods   \n",
       "1         M4A        North York                              Victoria Village   \n",
       "2         M5A  Downtown Toronto                    Regent Park , Harbourfront   \n",
       "3         M6A        North York             Lawrence Manor , Lawrence Heights   \n",
       "4         M7A  Downtown Toronto  Queen's Park , Ontario Provincial Government   \n",
       "\n",
       "    Latitude  Longitude  \n",
       "0  43.753259 -79.329656  \n",
       "1  43.725882 -79.315572  \n",
       "2  43.654260 -79.360636  \n",
       "3  43.718518 -79.464763  \n",
       "4  43.662301 -79.389494  "
      ]
     },
     "execution_count": 10,
     "metadata": {},
     "output_type": "execute_result"
    }
   ],
   "source": [
    "data_frame = pd.merge(data_frame, geospatial_data, on='Postal code')\n",
    "data_frame.head()"
   ]
  },
  {
   "cell_type": "code",
   "execution_count": null,
   "metadata": {},
   "outputs": [],
   "source": []
  },
  {
   "cell_type": "code",
   "execution_count": null,
   "metadata": {},
   "outputs": [],
   "source": []
  },
  {
   "cell_type": "code",
   "execution_count": null,
   "metadata": {},
   "outputs": [],
   "source": []
  }
 ],
 "metadata": {
  "kernelspec": {
   "display_name": "Python 3",
   "language": "python",
   "name": "python3"
  },
  "language_info": {
   "codemirror_mode": {
    "name": "ipython",
    "version": 3
   },
   "file_extension": ".py",
   "mimetype": "text/x-python",
   "name": "python",
   "nbconvert_exporter": "python",
   "pygments_lexer": "ipython3",
   "version": "3.8.2"
  }
 },
 "nbformat": 4,
 "nbformat_minor": 4
}
